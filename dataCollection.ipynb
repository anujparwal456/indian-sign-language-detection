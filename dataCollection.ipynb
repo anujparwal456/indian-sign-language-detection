{
 "cells": [
  {
   "cell_type": "code",
   "execution_count": null,
   "metadata": {},
   "outputs": [
    {
     "name": "stdout",
     "output_type": "stream",
     "text": [
      "1\n",
      "2\n",
      "3\n",
      "4\n",
      "5\n",
      "6\n",
      "7\n",
      "8\n",
      "9\n",
      "10\n",
      "11\n",
      "12\n",
      "13\n",
      "14\n",
      "15\n",
      "16\n",
      "17\n",
      "18\n",
      "19\n",
      "20\n"
     ]
    }
   ],
   "source": [
    "import cv2\n",
    "from cvzone.HandTrackingModule import HandDetector\n",
    "import numpy as np\n",
    "import math\n",
    "import time\n",
    "\n",
    "cap = cv2.VideoCapture(0)\n",
    "detector = HandDetector(maxHands=2)\n",
    "offset = 20\n",
    "imgSize = 300\n",
    "folder = \"C:/Users/crite/Downloads/Final_Sign_Dataset/y\"\n",
    "counter = 0\n",
    "\n",
    "while True:\n",
    "    success, img = cap.read()\n",
    "    hands, img = detector.findHands(img, draw=True)  # Set draw=False to remove boxes\n",
    "\n",
    "    if hands:\n",
    "        x_min = min(hand['bbox'][0] for hand in hands) - offset\n",
    "        y_min = min(hand['bbox'][1] for hand in hands) - offset\n",
    "        x_max = max(hand['bbox'][0] + hand['bbox'][2] for hand in hands) + offset\n",
    "        y_max = max(hand['bbox'][1] + hand['bbox'][3] for hand in hands) + offset\n",
    "\n",
    "        x_min, y_min = max(0, x_min), max(0, y_min)\n",
    "        x_max, y_max = min(img.shape[1], x_max), min(img.shape[0], y_max)\n",
    "\n",
    "        imgCrop = img[y_min:y_max, x_min:x_max]\n",
    "        \n",
    "        aspectRatio = (y_max - y_min) / (x_max - x_min)  # height / width\n",
    "        imgWhite = np.ones((imgSize, imgSize, 3), np.uint8) * 255 # White background\n",
    "\n",
    "        if aspectRatio > 1:\n",
    "            k = imgSize / (y_max - y_min)\n",
    "            wCal = math.ceil(k * (x_max - x_min))\n",
    "            imgResize = cv2.resize(imgCrop, (wCal, imgSize))\n",
    "            wGap = math.ceil((imgSize - wCal) / 2)\n",
    "            imgWhite[:, wGap:wGap + wCal] = imgResize\n",
    "        else:\n",
    "            k = imgSize / (x_max - x_min)\n",
    "            hCal = math.ceil(k * (y_max - y_min))\n",
    "            imgResize = cv2.resize(imgCrop, (imgSize, hCal))\n",
    "            hGap = math.ceil((imgSize - hCal) / 2)\n",
    "            imgWhite[hGap:hGap + hCal, :] = imgResize\n",
    "\n",
    "        cv2.imshow(\"ImageWhite\", imgWhite)\n",
    "\n",
    "    cv2.imshow(\"Image\", img)\n",
    "\n",
    "    if cv2.waitKey(1) & 0xFF == ord('s'):\n",
    "        counter += 1\n",
    "        cv2.imwrite(f'{folder}/Image_{time.time()}.jpg', imgWhite)\n",
    "        print(counter)\n",
    "    elif cv2.waitKey(1) & 0xFF == ord('q'):\n",
    "        break\n",
    "\n",
    "cap.release()\n",
    "cv2.destroyAllWindows()"
   ]
  }
 ],
 "metadata": {
  "kernelspec": {
   "display_name": "base",
   "language": "python",
   "name": "python3"
  },
  "language_info": {
   "codemirror_mode": {
    "name": "ipython",
    "version": 3
   },
   "file_extension": ".py",
   "mimetype": "text/x-python",
   "name": "python",
   "nbconvert_exporter": "python",
   "pygments_lexer": "ipython3",
   "version": "3.11.5"
  }
 },
 "nbformat": 4,
 "nbformat_minor": 2
}
